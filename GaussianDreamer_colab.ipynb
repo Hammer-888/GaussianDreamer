{
  "cells": [
    {
      "cell_type": "markdown",
      "metadata": {
        "colab_type": "text",
        "id": "view-in-github"
      },
      "source": [
        "<a href=\"https://colab.research.google.com/github/Hammer-888/GaussianDreamer/blob/main/GaussianDreamer_colab.ipynb\" target=\"_parent\"><img src=\"https://colab.research.google.com/assets/colab-badge.svg\" alt=\"Open In Colab\"/></a>"
      ]
    },
    {
      "cell_type": "code",
      "execution_count": null,
      "metadata": {
        "colab": {
          "base_uri": "https://localhost:8080/"
        },
        "id": "VjYy0F2gZIPR",
        "outputId": "fc1ec181-c8e9-46ab-aff8-32b64230d586"
      },
      "outputs": [],
      "source": [
        "%cd /content\n",
        "!git clone https://github.com/Hammer-888/GaussianDreamer.git\n",
        "\n",
        "!pip install -q https://huggingface.co/camenduru/GaussianDreamer/resolve/main/diff_gaussian_rasterization-0.0.0-cp310-cp310-linux_x86_64.whl\n",
        "!pip install -q https://huggingface.co/camenduru/GaussianDreamer/resolve/main/simple_knn-0.0.0-cp310-cp310-linux_x86_64.whl\n",
        "!pip install -q git+https://github.com/openai/shap-e.git\n",
        "!pip install -q pytorch_lightning omegaconf jaxtyping libigl diffusers transformers accelerate\n",
        "!pip install -q einops trimesh wandb plyfile open3d\n",
        "!pip install -q https://huggingface.co/camenduru/CoDeF/resolve/main/tinycudann-1.7-cp310-cp310-linux_x86_64.whl\n",
        "!pip install -q git+https://github.com/ashawkey/envlight\n",
        "!pip install -q git+https://github.com/NVlabs/nvdiffrast\n",
        "!pip install -q https://huggingface.co/camenduru/GaussianDreamer/resolve/main/nerfacc-0.5.3-cp310-cp310-linux_x86_64.whl\n",
        "!pip install -q https://download.pytorch.org/whl/cu118/xformers-0.0.22.post4%2Bcu118-cp310-cp310-manylinux2014_x86_64.whl\n",
        "\n",
        "!apt -y install -qq aria2 #libglm-dev\n",
        "!aria2c --console-log-level=error -c -x 16 -s 16 -k 1M https://huggingface.co/camenduru/GaussianDreamer/resolve/main/shapE_finetuned_with_330kdata.pth -d /content/GaussianDreamer/load -o shapE_finetuned_with_330kdata.pth"
      ]
    },
    {
      "cell_type": "code",
      "execution_count": null,
      "metadata": {
        "id": "73u3wsfw_fJV"
      },
      "outputs": [],
      "source": [
        "!apt install nvidia-cuda-toolkit\n",
        "%cd /content/GaussianDreamer/load/zero123/\n",
        "!bash download.sh\n",
        "!pip install kornia\n",
        "!pip install taming-transformers-rom1504\n",
        "!pip install pymcubes"
      ]
    },
    {
      "cell_type": "code",
      "execution_count": null,
      "metadata": {
        "id": "_fjaNAjTh_Ww"
      },
      "outputs": [],
      "source": [
        "%cd /content/GaussianDreamer\n",
        "!python launch.py --config configs/gaussiandreamer-sd.yaml --train --gpu 0 system.prompt_processor.prompt=\"a fox\" data.batch_size=2"
      ]
    },
    {
      "cell_type": "code",
      "execution_count": null,
      "metadata": {
        "id": "ELW0-Ftgl99N"
      },
      "outputs": [],
      "source": [
        "from IPython.display import HTML\n",
        "from base64 import b64encode\n",
        "def display_video(video_path):\n",
        "  mp4 = open(video_path,'rb').read()\n",
        "  data_url = \"data:video/mp4;base64,\" + b64encode(mp4).decode()\n",
        "  return HTML(\"\"\"\n",
        "  <video width=1000 controls>\n",
        "    <source src=\"%s\" type=\"video/mp4\">\n",
        "  </video>\n",
        "  \"\"\" % data_url)"
      ]
    },
    {
      "cell_type": "code",
      "execution_count": null,
      "metadata": {
        "colab": {
          "base_uri": "https://localhost:8080/",
          "height": 1000
        },
        "id": "otrz0LBTqkYp",
        "outputId": "38142b2a-0542-4f7c-f16d-8c6138e8a146"
      },
      "outputs": [],
      "source": [
        "save_dir = \"/content/GaussianDreamer/outputs/gaussiandreamer-sd/a_fox@20231203-120029/save/it1200-test.mp4\"\n",
        "\n",
        "import os\n",
        "import glob\n",
        "display_video(save_dir)"
      ]
    }
  ],
  "metadata": {
    "accelerator": "GPU",
    "colab": {
      "gpuType": "T4",
      "include_colab_link": true,
      "provenance": []
    },
    "kernelspec": {
      "display_name": "Python 3",
      "name": "python3"
    },
    "language_info": {
      "name": "python"
    }
  },
  "nbformat": 4,
  "nbformat_minor": 0
}
